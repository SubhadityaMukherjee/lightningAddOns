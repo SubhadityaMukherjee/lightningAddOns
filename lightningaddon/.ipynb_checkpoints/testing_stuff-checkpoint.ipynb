{
 "cells": [
  {
   "cell_type": "code",
   "execution_count": 4,
   "id": "copyrighted-upgrade",
   "metadata": {
    "execution": {
     "iopub.execute_input": "2021-06-19T17:12:14.351957Z",
     "iopub.status.busy": "2021-06-19T17:12:14.351820Z",
     "iopub.status.idle": "2021-06-19T17:12:14.354197Z",
     "shell.execute_reply": "2021-06-19T17:12:14.353837Z",
     "shell.execute_reply.started": "2021-06-19T17:12:14.351943Z"
    }
   },
   "outputs": [],
   "source": [
    "import torch\n"
   ]
  },
  {
   "cell_type": "code",
   "execution_count": 5,
   "id": "catholic-brunswick",
   "metadata": {
    "execution": {
     "iopub.execute_input": "2021-06-19T17:12:15.921833Z",
     "iopub.status.busy": "2021-06-19T17:12:15.921301Z",
     "iopub.status.idle": "2021-06-19T17:12:15.928269Z",
     "shell.execute_reply": "2021-06-19T17:12:15.926575Z",
     "shell.execute_reply.started": "2021-06-19T17:12:15.921771Z"
    }
   },
   "outputs": [],
   "source": [
    "te = torch.einsum"
   ]
  },
  {
   "cell_type": "code",
   "execution_count": 18,
   "id": "advance-stream",
   "metadata": {
    "execution": {
     "iopub.execute_input": "2021-06-19T17:13:55.512253Z",
     "iopub.status.busy": "2021-06-19T17:13:55.511714Z",
     "iopub.status.idle": "2021-06-19T17:13:55.526402Z",
     "shell.execute_reply": "2021-06-19T17:13:55.524793Z",
     "shell.execute_reply.started": "2021-06-19T17:13:55.512188Z"
    }
   },
   "outputs": [
    {
     "data": {
      "text/plain": [
       "tensor([[[0.9968, 0.2537],\n",
       "         [0.2983, 0.6462]],\n",
       "\n",
       "        [[0.1533, 0.1384],\n",
       "         [0.4989, 0.1908]],\n",
       "\n",
       "        [[0.2770, 0.3150],\n",
       "         [0.7438, 0.8165]],\n",
       "\n",
       "        [[0.1669, 0.7011],\n",
       "         [0.5395, 0.6782]]])"
      ]
     },
     "execution_count": 18,
     "metadata": {},
     "output_type": "execute_result"
    }
   ],
   "source": [
    "test_var = torch.rand(4,4).reshape(4,2,2);test_var"
   ]
  },
  {
   "cell_type": "code",
   "execution_count": 20,
   "id": "respective-complexity",
   "metadata": {
    "execution": {
     "iopub.execute_input": "2021-06-19T17:14:02.419455Z",
     "iopub.status.busy": "2021-06-19T17:14:02.419228Z",
     "iopub.status.idle": "2021-06-19T17:14:02.423555Z",
     "shell.execute_reply": "2021-06-19T17:14:02.423083Z",
     "shell.execute_reply.started": "2021-06-19T17:14:02.419428Z"
    }
   },
   "outputs": [
    {
     "data": {
      "text/plain": [
       "tensor([[[0.9968, 0.2537],\n",
       "         [0.1533, 0.1384],\n",
       "         [0.2770, 0.3150],\n",
       "         [0.1669, 0.7011]],\n",
       "\n",
       "        [[0.2983, 0.6462],\n",
       "         [0.4989, 0.1908],\n",
       "         [0.7438, 0.8165],\n",
       "         [0.5395, 0.6782]]])"
      ]
     },
     "execution_count": 20,
     "metadata": {},
     "output_type": "execute_result"
    }
   ],
   "source": [
    "#transpose\n",
    "te('ijk->jik',[test_var])"
   ]
  },
  {
   "cell_type": "code",
   "execution_count": null,
   "id": "spare-tender",
   "metadata": {},
   "outputs": [],
   "source": []
  },
  {
   "cell_type": "code",
   "execution_count": null,
   "id": "surprising-range",
   "metadata": {},
   "outputs": [],
   "source": []
  },
  {
   "cell_type": "code",
   "execution_count": null,
   "id": "champion-whale",
   "metadata": {},
   "outputs": [],
   "source": []
  },
  {
   "cell_type": "code",
   "execution_count": null,
   "id": "burning-heather",
   "metadata": {},
   "outputs": [],
   "source": []
  },
  {
   "cell_type": "code",
   "execution_count": null,
   "id": "aware-worship",
   "metadata": {},
   "outputs": [],
   "source": []
  },
  {
   "cell_type": "code",
   "execution_count": null,
   "id": "treated-julian",
   "metadata": {},
   "outputs": [],
   "source": []
  },
  {
   "cell_type": "code",
   "execution_count": null,
   "id": "governing-poetry",
   "metadata": {},
   "outputs": [],
   "source": []
  },
  {
   "cell_type": "code",
   "execution_count": null,
   "id": "destroyed-capability",
   "metadata": {},
   "outputs": [],
   "source": []
  },
  {
   "cell_type": "code",
   "execution_count": null,
   "id": "computational-adrian",
   "metadata": {},
   "outputs": [],
   "source": []
  },
  {
   "cell_type": "code",
   "execution_count": null,
   "id": "celtic-cheese",
   "metadata": {},
   "outputs": [],
   "source": []
  },
  {
   "cell_type": "code",
   "execution_count": null,
   "id": "synthetic-namibia",
   "metadata": {},
   "outputs": [],
   "source": []
  },
  {
   "cell_type": "code",
   "execution_count": null,
   "id": "chinese-product",
   "metadata": {},
   "outputs": [],
   "source": []
  }
 ],
 "metadata": {
  "kernelspec": {
   "display_name": "Python 3",
   "language": "python",
   "name": "python3"
  },
  "language_info": {
   "codemirror_mode": {
    "name": "ipython",
    "version": 3
   },
   "file_extension": ".py",
   "mimetype": "text/x-python",
   "name": "python",
   "nbconvert_exporter": "python",
   "pygments_lexer": "ipython3",
   "version": "3.9.5"
  }
 },
 "nbformat": 4,
 "nbformat_minor": 5
}
